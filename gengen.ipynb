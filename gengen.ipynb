{
 "cells": [
  {
   "cell_type": "markdown",
   "id": "3a0eaf2f",
   "metadata": {},
   "source": [
    "## gengen\n",
    "### Alexandra Higley\n",
    "\n",
    "Program that calls my function ```probtable``` from ```getprobs.py``` and runs it on all the FITS files in the directory ```/global/cfs/cdirs/desi/target/catalogs/dr9/1.1.1/targets/main/resolve/dark/```. Additionally, it will rename the FITS file that ```probtable``` returns as the name of the FITS file with the suffix ```probs_```. "
   ]
  },
  {
   "cell_type": "code",
   "execution_count": null,
   "id": "2e599d45",
   "metadata": {},
   "outputs": [],
   "source": [
    "import numpy as np\n",
    "from getprobs import probtable\n",
    "import glob\n",
    "import os\n",
    "import re"
   ]
  },
  {
   "cell_type": "markdown",
   "id": "cb4a5252",
   "metadata": {},
   "source": [
    "Once the path to the desired directory holding all the FITS files with all the objects we widsh to call probabilities from, we can use glob.glob to make an array of all the FITS files. "
   ]
  },
  {
   "cell_type": "code",
   "execution_count": null,
   "id": "090d9530",
   "metadata": {},
   "outputs": [],
   "source": [
    "path = \"/global/cfs/cdirs/desi/target/catalogs/dr9/1.1.1/targets/main/resolve/dark/\"\n",
    "fits_list = glob.glob(path + 'targets-dark-hp-9*.fits')\n",
    "fits_list = np.sort(fits_list,kind='standardsort')"
   ]
  },
  {
   "cell_type": "markdown",
   "id": "362e6b13",
   "metadata": {},
   "source": [
    "This loop is what runs ```probtable``` over and over again on all the FITS files in the directory. First, it finds the name of the file (along with its extension, which is the path) and calls it \"ext\". then, it runs ```probtable``` on every FITS file in the directory. Once ```probtable``` outputs a new FITS file with the probabilities, the loop then renames the new FITS file as the name of the original file, but with the suffix ```probs_```. So, for example, ```probtable``` would be run on the file ```targets-dark-hp-0.fits```, and then the new FITS file that contains the probabilities (along with RA, DEC, TARGETID and DESI_TARGET) would be called ```probs_targets-dark-hp-0.fits```. "
   ]
  },
  {
   "cell_type": "code",
   "execution_count": null,
   "id": "02ba1bd2",
   "metadata": {},
   "outputs": [],
   "source": [
    "for i in range(len(fits_list)):\n",
    "    f_name, f_ext = os.path.splitext(fits_list[i])\n",
    "    ext = os.path.basename(f_name)\n",
    "    probtable(fits_list[i])\n",
    "    path = \"/global/cscratch1/sd/ahigley/super/\"\n",
    "    os.rename('targetprobs.fits', os.path.join(path, 'probs_' + ext + '.fits'))"
   ]
  },
  {
   "cell_type": "code",
   "execution_count": null,
   "id": "55f93f28",
   "metadata": {},
   "outputs": [],
   "source": []
  }
 ],
 "metadata": {
  "kernelspec": {
   "display_name": "Python 3",
   "language": "python",
   "name": "python3"
  },
  "language_info": {
   "codemirror_mode": {
    "name": "ipython",
    "version": 3
   },
   "file_extension": ".py",
   "mimetype": "text/x-python",
   "name": "python",
   "nbconvert_exporter": "python",
   "pygments_lexer": "ipython3",
   "version": "3.8.8"
  }
 },
 "nbformat": 4,
 "nbformat_minor": 5
}
