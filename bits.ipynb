{
 "cells": [
  {
   "cell_type": "markdown",
   "id": "8d1023eb",
   "metadata": {},
   "source": [
    "## Bit Masks\n",
    "### Alexandra Higley\n",
    "\n",
    "A program using bit masks to check if my programs gengen.py and getprobs.py are working correctly. This checks to make sure that objects marked as QSOs have high probabilities for being QSOs. "
   ]
  },
  {
   "cell_type": "code",
   "execution_count": null,
   "id": "3703df12",
   "metadata": {},
   "outputs": [],
   "source": [
    "import numpy as np\n",
    "from astropy.table import Table\n",
    "import fitsio"
   ]
  },
  {
   "cell_type": "markdown",
   "id": "7ae0996c",
   "metadata": {},
   "source": [
    "Objects marked as QSOs have a bit mask of 2, so I wanted to find which of the DESI_TARGET integers have a factor of 2^2. \"ii\" returns a boolean answer for whether or not each DESI_TARGET has a factor of 2^2 in it or not. "
   ]
  },
  {
   "cell_type": "code",
   "execution_count": null,
   "id": "6ddcb142",
   "metadata": {},
   "outputs": [],
   "source": [
    "a = Table.read(\"probs_targets-dark-hp-261.fits\")\n",
    "targs = a[\"DESI_TARGET\"]\n",
    "ii = (targs & 2**2)!=0"
   ]
  },
  {
   "cell_type": "markdown",
   "id": "7d1ab714",
   "metadata": {},
   "source": [
    "Here I create a FITS table with all of the objects along with their DESI_TARGET integer, TARGETID, and then the probability along with whether it was targeted as a QSO. I saw that for the most part, anthing that was marked under QSO_BIT as **True** had larget probabilies (most around 0.9). I also saw that most marked at **False**— that is, not targeted as a QSO, had small probabilities (most zero). "
   ]
  },
  {
   "cell_type": "code",
   "execution_count": null,
   "id": "3d663d3a",
   "metadata": {},
   "outputs": [],
   "source": [
    "data = Table()\n",
    "data['DESI_TARGET'] = a['DESI_TARGET']\n",
    "data['TARGETID'] = a['TARGETID']\n",
    "data['PROB'] = a[\"PROB\"]\n",
    "data['QSO_BIT'] = ii\n",
    "data.write('bittest.fits', format='fits')"
   ]
  },
  {
   "cell_type": "markdown",
   "id": "30a8ac92",
   "metadata": {},
   "source": [
    "I also wanted to make a table only including targets that had non-zero probabilities, mostly to see if any of them were not marked as a QSO. Mostly, if they were not marked as a QSO but still had a non-zero probability, then the probability was very small (around 0.001). Only a few of them were not targeted as QSOs but had larger probabilities, which were rare but interestign cases to me. Untilmately, those cases do not matter too much. "
   ]
  },
  {
   "cell_type": "code",
   "execution_count": null,
   "id": "a7e32c51",
   "metadata": {},
   "outputs": [],
   "source": [
    "b = Table.read(\"bittest.fits\")\n",
    "bigs = np.where(b[\"PROB\"]>0.0)\n",
    "c = b[bigs]"
   ]
  },
  {
   "cell_type": "code",
   "execution_count": null,
   "id": "e583d3e2",
   "metadata": {},
   "outputs": [],
   "source": [
    "data2 = Table()\n",
    "data2['DESI_TARGET'] = c['DESI_TARGET']\n",
    "data2['TARGETID'] = c['TARGETID']\n",
    "data2['PROB'] = c[\"PROB\"]\n",
    "data2['QSO_BIT'] = c[\"QSO_BIT\"]\n",
    "data2.write('bittest_fin.fits', format='fits')\n",
    "ahigley@nid00220:/global/cscratch1/sd/ahigley/super> "
   ]
  }
 ],
 "metadata": {
  "kernelspec": {
   "display_name": "Python 3",
   "language": "python",
   "name": "python3"
  },
  "language_info": {
   "codemirror_mode": {
    "name": "ipython",
    "version": 3
   },
   "file_extension": ".py",
   "mimetype": "text/x-python",
   "name": "python",
   "nbconvert_exporter": "python",
   "pygments_lexer": "ipython3",
   "version": "3.8.8"
  }
 },
 "nbformat": 4,
 "nbformat_minor": 5
}
